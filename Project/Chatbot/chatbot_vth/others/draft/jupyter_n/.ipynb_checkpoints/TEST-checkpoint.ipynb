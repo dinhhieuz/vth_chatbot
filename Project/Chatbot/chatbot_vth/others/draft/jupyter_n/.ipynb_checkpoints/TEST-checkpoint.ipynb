{
 "cells": [
  {
   "cell_type": "code",
   "execution_count": 25,
   "id": "c03317b0",
   "metadata": {},
   "outputs": [
    {
     "name": "stdout",
     "output_type": "stream",
     "text": [
      "https://vutruhat.com/san-pham/binh-tuoi-cay/\n"
     ]
    }
   ],
   "source": [
    "a = \"\"\"\n",
    "<a href=\"https://vutruhat.com/san-pham/binh-tuoi-cay/\">\n",
    "                                        <img width=\"300\" height=\"300\" \">src=\"https://vutruhat.com/wp-content/uploads/2021/09/binh-tuoi-cay-vu-tru-hat-min-300x300.jpg\" class=\"attachment-woocommerce_thumbnail size-woocommerce_thumbnail lazyloaded\" alt=\"hạt giống Đà Nẵng\" sizes=\"(max-width: 300px) 100vw, 300px\" srcset=\"https://vutruhat.com/wp-content/uploads/2021/09/binh-tuoi-cay-vu-tru-hat-min-300x300.jpg 300w, https://vutruhat.com/wp-content/uploads/2021/09/binh-tuoi-cay-vu-tru-hat-min-100x100.jpg 100w, https://vutruhat.com/wp-content/uploads/2021/09/binh-tuoi-cay-vu-tru-hat-min-600x600.jpg 600w, https://vutruhat.com/wp-content/uploads/2021/09/binh-tuoi-cay-vu-tru-hat-min-400x400.jpg 400w, https://vutruhat.com/wp-content/uploads/2021/09/binh-tuoi-cay-vu-tru-hat-min-280x280.jpg 280w, https://vutruhat.com/wp-content/uploads/2021/09/binh-tuoi-cay-vu-tru-hat-min.jpg 720w\" data-ll-status=\"loaded\"><noscript><img width=\"300\" height=\"300\" src=\"https://vutruhat.com/wp-content/uploads/2021/09/binh-tuoi-cay-vu-tru-hat-min-300x300.jpg\" class=\"attachment-woocommerce_thumbnail size-woocommerce_thumbnail\" alt=\"hạt giống Đà Nẵng\" srcset=\"https://vutruhat.com/wp-content/uploads/2021/09/binh-tuoi-cay-vu-tru-hat-min-300x300.jpg 300w, https://vutruhat.com/wp-content/uploads/2021/09/binh-tuoi-cay-vu-tru-hat-min-100x100.jpg 100w, https://vutruhat.com/wp-content/uploads/2021/09/binh-tuoi-cay-vu-tru-hat-min-600x600.jpg 600w, https://vutruhat.com/wp-content/uploads/2021/09/binh-tuoi-cay-vu-tru-hat-min-400x400.jpg 400w, https://vutruhat.com/wp-content/uploads/2021/09/binh-tuoi-cay-vu-tru-hat-min-280x280.jpg 280w, https://vutruhat.com/wp-content/uploads/2021/09/binh-tuoi-cay-vu-tru-hat-min.jpg 720w\" sizes=\"(max-width: 300px) 100vw, 300px\" /></noscript>                            </a>\n",
    "\"\"\"\n",
    "print(a[a.find('href=\"')+6:a.find('\">')])"
   ]
  },
  {
   "cell_type": "code",
   "execution_count": 26,
   "id": "5196bb0e",
   "metadata": {},
   "outputs": [
    {
     "name": "stdout",
     "output_type": "stream",
     "text": [
      "https://vutruhat.com/san-pham/binh-tuoi-cay/\n"
     ]
    }
   ],
   "source": [
    "b = \"\"\"\n",
    "<a href=\"https://vutruhat.com/san-pham/binh-tuoi-cay/\">Bình tưới cây</a>\n",
    "\"\"\"\n",
    "print(b[b.find('href=\"')+6:b.find('\">')])"
   ]
  },
  {
   "cell_type": "code",
   "execution_count": 28,
   "id": "83352ee4",
   "metadata": {},
   "outputs": [
    {
     "name": "stdout",
     "output_type": "stream",
     "text": [
      "https://vutruhat.com/wp-content/uploads/2021/09/sen-da-canh-buom-vu-tru-hat-3-300x300.jpg\n"
     ]
    }
   ],
   "source": [
    "IMAGE = \"\"\"\n",
    "<a href=\"https://vutruhat.com/san-pham/sen-da-canh-buom/\">\n",
    "                                        <img width=\"300\" height=\"300\" src=\"https://vutruhat.com/wp-content/uploads/2021/09/sen-da-canh-buom-vu-tru-hat-3-300x300.jpg\" class=\"attachment-woocommerce_thumbnail size-woocommerce_thumbnail lazyloaded\" alt=\"sen đá Đà Nẵng\" sizes=\"(max-width: 300px) 100vw, 300px\" srcset=\"https://vutruhat.com/wp-content/uploads/2021/09/sen-da-canh-buom-vu-tru-hat-3-300x300.jpg 300w, https://vutruhat.com/wp-content/uploads/2021/09/sen-da-canh-buom-vu-tru-hat-3-100x100.jpg 100w, https://vutruhat.com/wp-content/uploads/2021/09/sen-da-canh-buom-vu-tru-hat-3-400x400.jpg 400w, https://vutruhat.com/wp-content/uploads/2021/09/sen-da-canh-buom-vu-tru-hat-3-280x280.jpg 280w, https://vutruhat.com/wp-content/uploads/2021/09/sen-da-canh-buom-vu-tru-hat-3.jpg 600w\" data-ll-status=\"loaded\"><noscript><img width=\"300\" height=\"300\" src=\"https://vutruhat.com/wp-content/uploads/2021/09/sen-da-canh-buom-vu-tru-hat-3-300x300.jpg\" class=\"attachment-woocommerce_thumbnail size-woocommerce_thumbnail\" alt=\"sen đá Đà Nẵng\" srcset=\"https://vutruhat.com/wp-content/uploads/2021/09/sen-da-canh-buom-vu-tru-hat-3-300x300.jpg 300w, https://vutruhat.com/wp-content/uploads/2021/09/sen-da-canh-buom-vu-tru-hat-3-100x100.jpg 100w, https://vutruhat.com/wp-content/uploads/2021/09/sen-da-canh-buom-vu-tru-hat-3-400x400.jpg 400w, https://vutruhat.com/wp-content/uploads/2021/09/sen-da-canh-buom-vu-tru-hat-3-280x280.jpg 280w, https://vutruhat.com/wp-content/uploads/2021/09/sen-da-canh-buom-vu-tru-hat-3.jpg 600w\" sizes=\"(max-width: 300px) 100vw, 300px\" /></noscript>                          </a>\n",
    "\"\"\"\n",
    "# print(a[a.find('data-lazy-srcset=\"')+18:a.find('jpg')+3])\n",
    "img = IMAGE[IMAGE.find('srcset=\"')+8:]\n",
    "img = img[:(img.find('jpg') if img.find('jpg') > -1 else img.find('png')) +3]\n",
    "print(img)"
   ]
  },
  {
   "cell_type": "code",
   "execution_count": 43,
   "id": "c453ffbe",
   "metadata": {},
   "outputs": [
    {
     "ename": "TypeError",
     "evalue": "unhashable type: 'dict'",
     "output_type": "error",
     "traceback": [
      "\u001b[1;31m---------------------------------------------------------------------------\u001b[0m",
      "\u001b[1;31mTypeError\u001b[0m                                 Traceback (most recent call last)",
      "\u001b[1;32m~\\AppData\\Local\\Temp/ipykernel_17792/3415087582.py\u001b[0m in \u001b[0;36m<module>\u001b[1;34m\u001b[0m\n\u001b[1;32m----> 1\u001b[1;33m c = {\n\u001b[0m\u001b[0;32m      2\u001b[0m     \u001b[1;33m{\u001b[0m\u001b[1;34m\"type\"\u001b[0m\u001b[1;33m:\u001b[0m\u001b[1;34m\"hi\"\u001b[0m\u001b[1;33m,\u001b[0m\u001b[1;34m\"time\"\u001b[0m\u001b[1;33m:\u001b[0m\u001b[1;34m\"123213\"\u001b[0m\u001b[1;33m}\u001b[0m\u001b[1;33m,\u001b[0m\u001b[1;33m{\u001b[0m\u001b[1;33m}\u001b[0m\u001b[1;33m\u001b[0m\u001b[1;33m\u001b[0m\u001b[0m\n\u001b[0;32m      3\u001b[0m }\n\u001b[0;32m      4\u001b[0m \u001b[0mc\u001b[0m\u001b[1;33m[\u001b[0m\u001b[1;36m1\u001b[0m\u001b[1;33m]\u001b[0m\u001b[1;33m.\u001b[0m\u001b[0mupdate\u001b[0m\u001b[1;33m(\u001b[0m\u001b[1;33m{\u001b[0m\u001b[1;36m3\u001b[0m\u001b[1;33m:\u001b[0m\u001b[1;36m3\u001b[0m\u001b[1;33m,\u001b[0m \u001b[1;36m3\u001b[0m\u001b[1;33m:\u001b[0m\u001b[1;36m4\u001b[0m\u001b[1;33m,\u001b[0m\u001b[1;36m123\u001b[0m\u001b[1;33m:\u001b[0m\u001b[1;36m12321\u001b[0m\u001b[1;33m}\u001b[0m\u001b[1;33m)\u001b[0m\u001b[1;33m\u001b[0m\u001b[1;33m\u001b[0m\u001b[0m\n\u001b[0;32m      5\u001b[0m \u001b[0mc\u001b[0m\u001b[1;33m[\u001b[0m\u001b[1;36m1\u001b[0m\u001b[1;33m]\u001b[0m\u001b[1;33m.\u001b[0m\u001b[0mupdate\u001b[0m\u001b[1;33m(\u001b[0m\u001b[1;33m{\u001b[0m\u001b[1;36m4\u001b[0m\u001b[1;33m:\u001b[0m\u001b[1;36m3\u001b[0m\u001b[1;33m}\u001b[0m\u001b[1;33m)\u001b[0m\u001b[1;33m\u001b[0m\u001b[1;33m\u001b[0m\u001b[0m\n",
      "\u001b[1;31mTypeError\u001b[0m: unhashable type: 'dict'"
     ]
    }
   ],
   "source": [
    "c = {\n",
    "    {\"type\":\"hi\",\"time\":\"123213\"},{}\n",
    "}\n",
    "c[1].update({3:3, 3:4,123:12321})\n",
    "c[1].update({4:3})\n",
    "print(c)\n"
   ]
  },
  {
   "cell_type": "code",
   "execution_count": 53,
   "id": "aabc37d5",
   "metadata": {},
   "outputs": [
    {
     "name": "stdout",
     "output_type": "stream",
     "text": [
      "\n",
      "{\n",
      "    \"type\": \"04\",\n",
      "    \"time\": \"sunil\",\n",
      "    \"data\": [\n",
      "        {\n",
      "            \"1\": 2\n",
      "        },\n",
      "        {\n",
      "            \"3\": 4,\n",
      "            \"5\": 4\n",
      "        },\n",
      "        {\n",
      "            \"1\": 1\n",
      "        }\n",
      "    ]\n",
      "}\n"
     ]
    }
   ],
   "source": [
    "import json \n",
    "      \n",
    "# Data to be written \n",
    "dictionary ={ \n",
    "  \"type\": \"04\", \n",
    "  \"time\": \"sunil\", \n",
    "  \"data\": [{1:1,1:2},{3:4,5:4}]\n",
    "} \n",
    "print()\n",
    "dictionary[\"data\"].append({1:1})\n",
    "# Serializing json  \n",
    "json_object = json.dumps(dictionary, indent = 4) \n",
    "print(json_object)"
   ]
  }
 ],
 "metadata": {
  "kernelspec": {
   "display_name": "Python 3 (ipykernel)",
   "language": "python",
   "name": "python3"
  },
  "language_info": {
   "codemirror_mode": {
    "name": "ipython",
    "version": 3
   },
   "file_extension": ".py",
   "mimetype": "text/x-python",
   "name": "python",
   "nbconvert_exporter": "python",
   "pygments_lexer": "ipython3",
   "version": "3.8.8"
  }
 },
 "nbformat": 4,
 "nbformat_minor": 5
}
